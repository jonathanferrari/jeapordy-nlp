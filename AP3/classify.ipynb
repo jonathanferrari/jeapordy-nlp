{
  "cells": [
    {
      "cell_type": "code",
      "source": [
        "!unzip AP3-zipped.zip\n",
        "%cd AP3"
      ],
      "metadata": {
        "colab": {
          "base_uri": "https://localhost:8080/"
        },
        "id": "TuNN9gD1AaJt",
        "outputId": "6aef2487-2b28-4479-d6d5-7f845d9688b9"
      },
      "execution_count": 1,
      "outputs": [
        {
          "output_type": "stream",
          "name": "stdout",
          "text": [
            "Archive:  AP3-zipped.zip\n",
            "  inflating: AP3/classify.ipynb      \n",
            "  inflating: AP3/jeopardy.csv        \n",
            "  inflating: AP3/model.csv           \n",
            "   creating: AP3/splits/\n",
            "  inflating: AP3/splits/dev.txt      \n",
            "  inflating: AP3/splits/test.txt     \n",
            "  inflating: AP3/splits/train.txt    \n",
            "   creating: AP3/transformers/\n",
            "/content/AP3\n"
          ]
        }
      ]
    },
    {
      "cell_type": "code",
      "execution_count": 25,
      "metadata": {
        "id": "mthxdESLAUci"
      },
      "outputs": [],
      "source": [
        "import pandas as pd\n",
        "import numpy as np\n",
        "from transformers import BertTokenizer, TFBertForSequenceClassification, DistilBertTokenizer, TFDistilBertForSequenceClassification\n",
        "from sklearn.model_selection import train_test_split\n",
        "from sklearn.preprocessing import LabelEncoder\n",
        "import tensorflow as tf\n",
        "from tf_keras.callbacks import CSVLogger, ModelCheckpoint\n",
        "import tf_keras\n",
        "import warnings\n",
        "warnings.filterwarnings(\"ignore\")\n",
        "\n",
        "\n",
        "from sklearn.feature_extraction.text import TfidfVectorizer\n",
        "from sklearn.svm import SVC\n",
        "from sklearn.metrics import accuracy_score, classification_report\n",
        "\n",
        "from sklearn.ensemble import RandomForestClassifier\n",
        "from sklearn.linear_model import LogisticRegression\n",
        "from scipy import stats\n",
        "import math"
      ]
    },
    {
      "cell_type": "code",
      "execution_count": 3,
      "metadata": {
        "id": "fJcSyRk7AUck"
      },
      "outputs": [],
      "source": [
        "jeopardy = pd.read_csv('jeopardy.csv')\n",
        "train, other = train_test_split(jeopardy, test_size=0.4, random_state=42, stratify=jeopardy['class'])\n",
        "dev, test = train_test_split(other, test_size=0.5, random_state=42, stratify=other['class'])\n",
        "train.to_csv('splits/train.txt', index=False)\n",
        "dev.to_csv('splits/dev.txt', index=False)\n",
        "test.to_csv('splits/test.txt', index=False)"
      ]
    },
    {
      "cell_type": "markdown",
      "metadata": {
        "id": "R6JbPzpfAUck"
      },
      "source": [
        "## BERT"
      ]
    },
    {
      "cell_type": "code",
      "execution_count": 4,
      "metadata": {
        "colab": {
          "base_uri": "https://localhost:8080/",
          "height": 1000,
          "referenced_widgets": [
            "1f72ebc90f9547b1839c0895ebe294ad",
            "5ba6b8a752b643ccb8bb333daef84eae",
            "84d735934d114ddb876fa8a117e02fcc",
            "26901b15236746398f6f7ac020c39e4c",
            "c5ad6f19bdf9471a9571368311aaaf53",
            "0447a4c66bc74f7ab2852581b8eda522",
            "61a78f82b6604c7ab8089145e900faae",
            "7d392588a827429b8d1737f87114201a",
            "79ea563464a94d74b22d80c4dfe625be",
            "7445ed326fdc49e186be823378a7a5c4",
            "07b51e857cf7411eadc95cded8ddcf00",
            "31a64ca14bb24314bd8d7b0082d04dd4",
            "b553bd2e22e7403da2f0bb544423aff6",
            "4b98dd9e2f3e44ea8d924e49465ab4a3",
            "2410ee0cfcff49679e06665db50420ac",
            "98f2049211784605bddef2fd1ff6a907",
            "38fc7124e0fc45c390733ff71a6cba9b",
            "9ce62dcd23794979b4deaafae87901cc",
            "1e914592cf9f42a2a5fc1c00b8208c3e",
            "03d1f00b69e3457fb2716a181619d06e",
            "6db9b52a0f6140c6a268b97230e1375d",
            "4964a02cde1f419d8968fba546b6933b",
            "1b45a3f25bfb4edc90ad44f11f7be5e7",
            "b43dc68fbcc84f0d8cc37131c81822ca",
            "d00e799c398842ea912080c3ca79fecb",
            "8e0467e4b613431ba4285a87875fb33d",
            "4ad7797140424637a7606631fe475295",
            "e9cd40eeedc64c189b25e6c92ace9dd3",
            "039ffb03e0704fc69448563452073e7c",
            "09f6431cab69428c88d128a8a13f3cee",
            "af2a4e8a554646e490d123ca9c4851b0",
            "18ac1c708252426ca883cd5f4a61f455",
            "ac223182a9e446359c46d5875e19daee",
            "e8dbdc2f5abb4133bd923bf7588f2632",
            "6c08569bdc3943d1b6de9ab7e3d6e6cb",
            "80ac52e0b1144d399ece7b9d3416fda7",
            "8b288efd8e20440fbd437f7db772d6a0",
            "08851616b7b44752959d471d59d7e6cc",
            "ede6f50f925a4ec28a4eb18f4d1d214f",
            "0c75cbd4e5864cfca5ef518400123ffe",
            "f457c124402c4a7497f51a06a2c1de4d",
            "94de5940cebb47f1827c2a58c16fb8f7",
            "299b0c205b73411592efe21d8fec9b7f",
            "a867b62057b245028e2d2bf0949e4fca",
            "dc03d2c0d2ad4da289817298ee751c02",
            "fd65b029110442cfa08c94c89878c1a8",
            "ef81dc2488b84b2d8a144474c03d0eb0",
            "d07e4627f04243cb96917f8221a10822",
            "f2b017398e924e7b9acc723dc1373d77",
            "65a1c447453041c2bb7fba40bbf2674c",
            "3f6b764bfed54bb090c889088c960110",
            "a3548beaa3ca42feaf711acaecdf5906",
            "f5955d8744ea47f19837520a008b8bff",
            "b344894da8be4537b598e7a5b0b7dbb8",
            "1bdf5876f84e4155b8ef18f105dc5aa4"
          ]
        },
        "id": "h2X-zBLwAUcm",
        "outputId": "a65439d8-c554-4338-8285-947b31c8f86a"
      },
      "outputs": [
        {
          "output_type": "display_data",
          "data": {
            "text/plain": [
              "tokenizer_config.json:   0%|          | 0.00/28.0 [00:00<?, ?B/s]"
            ],
            "application/vnd.jupyter.widget-view+json": {
              "version_major": 2,
              "version_minor": 0,
              "model_id": "1f72ebc90f9547b1839c0895ebe294ad"
            }
          },
          "metadata": {}
        },
        {
          "output_type": "display_data",
          "data": {
            "text/plain": [
              "vocab.txt:   0%|          | 0.00/232k [00:00<?, ?B/s]"
            ],
            "application/vnd.jupyter.widget-view+json": {
              "version_major": 2,
              "version_minor": 0,
              "model_id": "31a64ca14bb24314bd8d7b0082d04dd4"
            }
          },
          "metadata": {}
        },
        {
          "output_type": "display_data",
          "data": {
            "text/plain": [
              "tokenizer.json:   0%|          | 0.00/466k [00:00<?, ?B/s]"
            ],
            "application/vnd.jupyter.widget-view+json": {
              "version_major": 2,
              "version_minor": 0,
              "model_id": "1b45a3f25bfb4edc90ad44f11f7be5e7"
            }
          },
          "metadata": {}
        },
        {
          "output_type": "display_data",
          "data": {
            "text/plain": [
              "config.json:   0%|          | 0.00/483 [00:00<?, ?B/s]"
            ],
            "application/vnd.jupyter.widget-view+json": {
              "version_major": 2,
              "version_minor": 0,
              "model_id": "e8dbdc2f5abb4133bd923bf7588f2632"
            }
          },
          "metadata": {}
        },
        {
          "output_type": "display_data",
          "data": {
            "text/plain": [
              "model.safetensors:   0%|          | 0.00/268M [00:00<?, ?B/s]"
            ],
            "application/vnd.jupyter.widget-view+json": {
              "version_major": 2,
              "version_minor": 0,
              "model_id": "dc03d2c0d2ad4da289817298ee751c02"
            }
          },
          "metadata": {}
        },
        {
          "output_type": "stream",
          "name": "stderr",
          "text": [
            "Some weights of the PyTorch model were not used when initializing the TF 2.0 model TFDistilBertForSequenceClassification: ['vocab_layer_norm.weight', 'vocab_transform.weight', 'vocab_projector.bias', 'vocab_transform.bias', 'vocab_layer_norm.bias']\n",
            "- This IS expected if you are initializing TFDistilBertForSequenceClassification from a PyTorch model trained on another task or with another architecture (e.g. initializing a TFBertForSequenceClassification model from a BertForPreTraining model).\n",
            "- This IS NOT expected if you are initializing TFDistilBertForSequenceClassification from a PyTorch model that you expect to be exactly identical (e.g. initializing a TFBertForSequenceClassification model from a BertForSequenceClassification model).\n",
            "Some weights or buffers of the TF 2.0 model TFDistilBertForSequenceClassification were not initialized from the PyTorch model and are newly initialized: ['pre_classifier.weight', 'pre_classifier.bias', 'classifier.weight', 'classifier.bias']\n",
            "You should probably TRAIN this model on a down-stream task to be able to use it for predictions and inference.\n"
          ]
        },
        {
          "output_type": "stream",
          "name": "stdout",
          "text": [
            "Epoch 1/25\n"
          ]
        },
        {
          "output_type": "stream",
          "name": "stderr",
          "text": [
            "WARNING:tensorflow:AutoGraph could not transform <function infer_framework at 0x780042993e20> and will run it as-is.\n",
            "Cause: for/else statement not yet supported\n",
            "To silence this warning, decorate the function with @tf.autograph.experimental.do_not_convert\n"
          ]
        },
        {
          "output_type": "stream",
          "name": "stdout",
          "text": [
            "WARNING: AutoGraph could not transform <function infer_framework at 0x780042993e20> and will run it as-is.\n",
            "Cause: for/else statement not yet supported\n",
            "To silence this warning, decorate the function with @tf.autograph.experimental.do_not_convert\n",
            "10/10 [==============================] - ETA: 0s - loss: 1.2563 - accuracy: 0.5567\n",
            "Epoch 1: val_loss improved from inf to 1.10454, saving model to model.keras\n",
            "10/10 [==============================] - 74s 1s/step - loss: 1.2563 - accuracy: 0.5567 - val_loss: 1.1045 - val_accuracy: 0.6400\n",
            "Epoch 2/25\n",
            "10/10 [==============================] - ETA: 0s - loss: 1.0523 - accuracy: 0.6433\n",
            "Epoch 2: val_loss improved from 1.10454 to 1.02039, saving model to model.keras\n",
            "10/10 [==============================] - 5s 542ms/step - loss: 1.0523 - accuracy: 0.6433 - val_loss: 1.0204 - val_accuracy: 0.6400\n",
            "Epoch 3/25\n",
            "10/10 [==============================] - ETA: 0s - loss: 1.0085 - accuracy: 0.6433\n",
            "Epoch 3: val_loss improved from 1.02039 to 1.00629, saving model to model.keras\n",
            "10/10 [==============================] - 5s 545ms/step - loss: 1.0085 - accuracy: 0.6433 - val_loss: 1.0063 - val_accuracy: 0.6400\n",
            "Epoch 4/25\n",
            "10/10 [==============================] - ETA: 0s - loss: 0.9910 - accuracy: 0.6433\n",
            "Epoch 4: val_loss improved from 1.00629 to 0.99991, saving model to model.keras\n",
            "10/10 [==============================] - 5s 546ms/step - loss: 0.9910 - accuracy: 0.6433 - val_loss: 0.9999 - val_accuracy: 0.6400\n",
            "Epoch 5/25\n",
            "10/10 [==============================] - ETA: 0s - loss: 0.9981 - accuracy: 0.6433\n",
            "Epoch 5: val_loss improved from 0.99991 to 0.99535, saving model to model.keras\n",
            "10/10 [==============================] - 6s 622ms/step - loss: 0.9981 - accuracy: 0.6433 - val_loss: 0.9954 - val_accuracy: 0.6400\n",
            "Epoch 6/25\n",
            "10/10 [==============================] - ETA: 0s - loss: 0.9831 - accuracy: 0.6433\n",
            "Epoch 6: val_loss improved from 0.99535 to 0.97989, saving model to model.keras\n",
            "10/10 [==============================] - 6s 558ms/step - loss: 0.9831 - accuracy: 0.6433 - val_loss: 0.9799 - val_accuracy: 0.6400\n",
            "Epoch 7/25\n",
            "10/10 [==============================] - ETA: 0s - loss: 0.9608 - accuracy: 0.6433\n",
            "Epoch 7: val_loss improved from 0.97989 to 0.95529, saving model to model.keras\n",
            "10/10 [==============================] - 6s 620ms/step - loss: 0.9608 - accuracy: 0.6433 - val_loss: 0.9553 - val_accuracy: 0.6400\n",
            "Epoch 8/25\n",
            "10/10 [==============================] - ETA: 0s - loss: 0.9352 - accuracy: 0.6433\n",
            "Epoch 8: val_loss improved from 0.95529 to 0.91669, saving model to model.keras\n",
            "10/10 [==============================] - 5s 560ms/step - loss: 0.9352 - accuracy: 0.6433 - val_loss: 0.9167 - val_accuracy: 0.6400\n",
            "Epoch 9/25\n",
            "10/10 [==============================] - ETA: 0s - loss: 0.8769 - accuracy: 0.6433\n",
            "Epoch 9: val_loss improved from 0.91669 to 0.84522, saving model to model.keras\n",
            "10/10 [==============================] - 6s 587ms/step - loss: 0.8769 - accuracy: 0.6433 - val_loss: 0.8452 - val_accuracy: 0.6400\n",
            "Epoch 10/25\n",
            "10/10 [==============================] - ETA: 0s - loss: 0.8049 - accuracy: 0.6533\n",
            "Epoch 10: val_loss improved from 0.84522 to 0.81010, saving model to model.keras\n",
            "10/10 [==============================] - 6s 568ms/step - loss: 0.8049 - accuracy: 0.6533 - val_loss: 0.8101 - val_accuracy: 0.6800\n",
            "Epoch 11/25\n",
            "10/10 [==============================] - ETA: 0s - loss: 0.7337 - accuracy: 0.7000\n",
            "Epoch 11: val_loss improved from 0.81010 to 0.73296, saving model to model.keras\n",
            "10/10 [==============================] - 6s 578ms/step - loss: 0.7337 - accuracy: 0.7000 - val_loss: 0.7330 - val_accuracy: 0.7400\n",
            "Epoch 12/25\n",
            "10/10 [==============================] - ETA: 0s - loss: 0.6343 - accuracy: 0.7933\n",
            "Epoch 12: val_loss improved from 0.73296 to 0.67846, saving model to model.keras\n",
            "10/10 [==============================] - 6s 583ms/step - loss: 0.6343 - accuracy: 0.7933 - val_loss: 0.6785 - val_accuracy: 0.7600\n",
            "Epoch 13/25\n",
            "10/10 [==============================] - ETA: 0s - loss: 0.5418 - accuracy: 0.8233\n",
            "Epoch 13: val_loss improved from 0.67846 to 0.64508, saving model to model.keras\n",
            "10/10 [==============================] - 6s 578ms/step - loss: 0.5418 - accuracy: 0.8233 - val_loss: 0.6451 - val_accuracy: 0.7900\n",
            "Epoch 14/25\n",
            "10/10 [==============================] - ETA: 0s - loss: 0.4843 - accuracy: 0.8600\n",
            "Epoch 14: val_loss improved from 0.64508 to 0.64139, saving model to model.keras\n",
            "10/10 [==============================] - 6s 585ms/step - loss: 0.4843 - accuracy: 0.8600 - val_loss: 0.6414 - val_accuracy: 0.7600\n",
            "Epoch 15/25\n",
            "10/10 [==============================] - ETA: 0s - loss: 0.4009 - accuracy: 0.8933\n",
            "Epoch 15: val_loss improved from 0.64139 to 0.56742, saving model to model.keras\n",
            "10/10 [==============================] - 6s 642ms/step - loss: 0.4009 - accuracy: 0.8933 - val_loss: 0.5674 - val_accuracy: 0.7800\n",
            "Epoch 16/25\n",
            "10/10 [==============================] - ETA: 0s - loss: 0.3079 - accuracy: 0.9433\n",
            "Epoch 16: val_loss did not improve from 0.56742\n",
            "10/10 [==============================] - 5s 457ms/step - loss: 0.3079 - accuracy: 0.9433 - val_loss: 0.5790 - val_accuracy: 0.7700\n",
            "Epoch 17/25\n",
            "10/10 [==============================] - ETA: 0s - loss: 0.2595 - accuracy: 0.9533\n",
            "Epoch 17: val_loss did not improve from 0.56742\n",
            "10/10 [==============================] - 5s 455ms/step - loss: 0.2595 - accuracy: 0.9533 - val_loss: 0.5796 - val_accuracy: 0.7600\n",
            "Epoch 18/25\n",
            "10/10 [==============================] - ETA: 0s - loss: 0.2157 - accuracy: 0.9600\n",
            "Epoch 18: val_loss did not improve from 0.56742\n",
            "10/10 [==============================] - 4s 453ms/step - loss: 0.2157 - accuracy: 0.9600 - val_loss: 0.6015 - val_accuracy: 0.7900\n",
            "Epoch 19/25\n",
            "10/10 [==============================] - ETA: 0s - loss: 0.1814 - accuracy: 0.9733\n",
            "Epoch 19: val_loss did not improve from 0.56742\n",
            "10/10 [==============================] - 4s 448ms/step - loss: 0.1814 - accuracy: 0.9733 - val_loss: 0.6309 - val_accuracy: 0.7800\n",
            "Epoch 20/25\n",
            "10/10 [==============================] - ETA: 0s - loss: 0.1478 - accuracy: 0.9800\n",
            "Epoch 20: val_loss did not improve from 0.56742\n",
            "10/10 [==============================] - 4s 446ms/step - loss: 0.1478 - accuracy: 0.9800 - val_loss: 0.6308 - val_accuracy: 0.8000\n",
            "Epoch 21/25\n",
            "10/10 [==============================] - ETA: 0s - loss: 0.1340 - accuracy: 0.9867\n",
            "Epoch 21: val_loss did not improve from 0.56742\n",
            "10/10 [==============================] - 4s 440ms/step - loss: 0.1340 - accuracy: 0.9867 - val_loss: 0.6648 - val_accuracy: 0.7800\n",
            "Epoch 22/25\n",
            "10/10 [==============================] - ETA: 0s - loss: 0.1230 - accuracy: 0.9900\n",
            "Epoch 22: val_loss did not improve from 0.56742\n",
            "10/10 [==============================] - 4s 438ms/step - loss: 0.1230 - accuracy: 0.9900 - val_loss: 0.6446 - val_accuracy: 0.8000\n",
            "Epoch 23/25\n",
            "10/10 [==============================] - ETA: 0s - loss: 0.1017 - accuracy: 0.9933\n",
            "Epoch 23: val_loss did not improve from 0.56742\n",
            "10/10 [==============================] - 4s 437ms/step - loss: 0.1017 - accuracy: 0.9933 - val_loss: 0.6435 - val_accuracy: 0.8000\n",
            "Epoch 24/25\n",
            "10/10 [==============================] - ETA: 0s - loss: 0.0970 - accuracy: 0.9867\n",
            "Epoch 24: val_loss did not improve from 0.56742\n",
            "10/10 [==============================] - 4s 434ms/step - loss: 0.0970 - accuracy: 0.9867 - val_loss: 0.7024 - val_accuracy: 0.8000\n",
            "Epoch 25/25\n",
            "10/10 [==============================] - ETA: 0s - loss: 0.0872 - accuracy: 0.9933\n",
            "Epoch 25: val_loss did not improve from 0.56742\n",
            "10/10 [==============================] - 4s 433ms/step - loss: 0.0872 - accuracy: 0.9933 - val_loss: 0.6984 - val_accuracy: 0.7900\n",
            "4/4 [==============================] - 0s 103ms/step - loss: 0.6937 - accuracy: 0.7900\n",
            "Test Loss: 0.6937294006347656, Test Accuracy: 0.7900000214576721\n"
          ]
        }
      ],
      "source": [
        "# Function to preprocess and encode datasets\n",
        "def prepare_data(data):\n",
        "    data['combined_text'] = data['Category'] + \" [SEP] \" + data['Question'] + \" [SEP] \" + data['Answer']\n",
        "    # Ensure to use the 'text' parameter for the tokenizer\n",
        "    input_data = tokenizer(text=data['combined_text'].tolist(), padding=\"max_length\", truncation=True, max_length=128, return_tensors=\"tf\")\n",
        "    labels = label_encoder.transform(data['class'])  # Transform labels using the fitted label encoder\n",
        "    return input_data['input_ids'], tf.keras.utils.to_categorical(labels, num_classes=len(label_encoder.classes_))\n",
        "\n",
        "\n",
        "model_name = 'distilbert-base-uncased'\n",
        "# Initialize and fit label encoder on all possible labels\n",
        "label_encoder = LabelEncoder()\n",
        "all_data = pd.concat([train, dev, test])\n",
        "label_encoder.fit(all_data['class'])\n",
        "\n",
        "# Initialize tokenizer\n",
        "tokenizer = DistilBertTokenizer.from_pretrained(model_name)\n",
        "# Initialize model\n",
        "model = TFDistilBertForSequenceClassification.from_pretrained(model_name, num_labels=len(label_encoder.classes_))\n",
        "\n",
        "# Prepare datasets\n",
        "train_inputs, train_labels = prepare_data(train)\n",
        "dev_inputs, dev_labels = prepare_data(dev)\n",
        "test_inputs, test_labels = prepare_data(test)\n",
        "\n",
        "# Create TensorFlow datasets\n",
        "train_dataset = tf.data.Dataset.from_tensor_slices((train_inputs, train_labels)).shuffle(len(train_labels)).batch(32)\n",
        "dev_dataset = tf.data.Dataset.from_tensor_slices((dev_inputs, dev_labels)).batch(32)\n",
        "test_dataset = tf.data.Dataset.from_tensor_slices((test_inputs, test_labels)).batch(32)\n",
        "\n",
        "\n",
        "\n",
        "# Compile model\n",
        "loss_fn = tf.keras.losses.CategoricalCrossentropy(from_logits=True)\n",
        "optimizer = tf_keras.optimizers.legacy.Adam(learning_rate=1e-5)\n",
        "csv_logger = CSVLogger(\"model.csv\")\n",
        "checkpoint = ModelCheckpoint(\"model.keras\", monitor='val_loss', verbose=1, save_best_only=True, save_weights_only=False, mode='auto', save_freq='epoch')\n",
        "\n",
        "model.compile(optimizer=optimizer, loss=loss_fn, metrics=['accuracy'])\n",
        "\n",
        "# Train model\n",
        "model.fit(train_dataset, epochs=25, validation_data=dev_dataset, callbacks=[csv_logger, checkpoint])\n",
        "\n",
        "# Evaluate model on the test dataset\n",
        "test_loss, test_accuracy = model.evaluate(test_dataset)\n",
        "print(f\"Test Loss: {test_loss}, Test Accuracy: {test_accuracy}\")"
      ]
    },
    {
      "cell_type": "code",
      "execution_count": 5,
      "metadata": {
        "colab": {
          "base_uri": "https://localhost:8080/"
        },
        "id": "c58T0fjmAUcn",
        "outputId": "9f715a9c-08e7-411a-d359-930262edebe3"
      },
      "outputs": [
        {
          "output_type": "stream",
          "name": "stdout",
          "text": [
            "Majority Class Baseline: 0.65\n"
          ]
        }
      ],
      "source": [
        "majority_class = test['class'].value_counts().idxmax()\n",
        "majority_class_accuracy = (test['class'] == majority_class).mean()\n",
        "print(f\"Majority Class Baseline: {majority_class_accuracy}\")"
      ]
    },
    {
      "cell_type": "code",
      "source": [
        "# Confidence interval function from example notebooks\n",
        "def confidence_intervals(accuracy, n, significance_level):\n",
        "    critical_value=(1-significance_level)/2\n",
        "    z_alpha=-1*stats.norm.ppf(critical_value)\n",
        "    se=math.sqrt((accuracy*(1-accuracy))/n)\n",
        "    return accuracy-(se*z_alpha), accuracy+(se*z_alpha)"
      ],
      "metadata": {
        "id": "y-_useuyKODd"
      },
      "execution_count": 29,
      "outputs": []
    },
    {
      "cell_type": "code",
      "execution_count": 30,
      "metadata": {
        "colab": {
          "base_uri": "https://localhost:8080/",
          "height": 1000
        },
        "id": "t3k_s6aCAUcn",
        "outputId": "d4b597e0-4430-4211-f3f1-404ca8b65a23"
      },
      "outputs": [
        {
          "output_type": "display_data",
          "data": {
            "text/plain": [
              "<Figure size 1200x600 with 1 Axes>"
            ],
            "image/png": "[encoded data removed]"
          },
          "metadata": {}
        },
        {
          "output_type": "display_data",
          "data": {
            "text/plain": [
              "<Figure size 1200x600 with 1 Axes>"
            ],
            "image/png": "[encoded data removed]"
          },
          "metadata": {}
        }
      ],
      "source": [
        "import seaborn as sns\n",
        "import matplotlib.pyplot as plt\n",
        "sns.set(style='darkgrid', palette=\"tab10\", context='notebook')\n",
        "performance = pd.read_csv('model.csv')\n",
        "performance['epoch'] = performance.index + 1\n",
        "plt.figure(figsize=(12, 6))\n",
        "sns.lineplot(data=performance[['accuracy', 'val_accuracy']])\n",
        "plt.hlines(majority_class_accuracy, color='red', linestyles='dashed', label='Majority Class Baseline', xmin=0, xmax=len(performance)-1)\n",
        "plt.xlabel('Epoch')\n",
        "plt.ylabel('Accuracy')\n",
        "plt.title('Training and Validation Accuracy')\n",
        "plt.legend()\n",
        "plt.show()\n",
        "plt.figure(figsize=(12, 6))\n",
        "sns.lineplot(data=performance[['loss', 'val_loss']])\n",
        "plt.xlabel('Epoch')\n",
        "plt.ylabel('Loss')\n",
        "plt.title('Training and Validation Loss')\n",
        "plt.show()"
      ]
    },
    {
      "cell_type": "code",
      "execution_count": 31,
      "metadata": {
        "colab": {
          "base_uri": "https://localhost:8080/"
        },
        "id": "l9sjeTXJAUco",
        "outputId": "82179897-90d2-42e9-a3c1-a85892b8bee5"
      },
      "outputs": [
        {
          "output_type": "stream",
          "name": "stdout",
          "text": [
            "4/4 [==============================] - 0s 101ms/step\n"
          ]
        }
      ],
      "source": [
        "preds = model.predict(test_inputs)\n",
        "classes = label_encoder.classes_\n",
        "y_hat = classes[np.argmax(preds.logits, axis=1)]\n",
        "y = label_encoder.inverse_transform(np.argmax(test_labels, axis=1))"
      ]
    },
    {
      "cell_type": "code",
      "execution_count": 32,
      "metadata": {
        "colab": {
          "base_uri": "https://localhost:8080/",
          "height": 727
        },
        "id": "FoF1814oAUco",
        "outputId": "ef8b203d-f2db-412c-8a2e-76bfc0dcd235"
      },
      "outputs": [
        {
          "output_type": "display_data",
          "data": {
            "text/plain": [
              "<Figure size 1000x800 with 2 Axes>"
            ],
            "image/png": "[encoded data removed]"
          },
          "metadata": {}
        }
      ],
      "source": [
        "# make confusion matrix using sklearn\n",
        "from sklearn.metrics import confusion_matrix\n",
        "\n",
        "cm = confusion_matrix(y, y_hat, labels=classes, normalize='true')\n",
        "plt.figure(figsize=(10, 8))\n",
        "sns.heatmap(cm, annot=True, cmap='Blues', xticklabels=classes, yticklabels=classes)\n",
        "plt.xlabel('Predicted Label')\n",
        "plt.ylabel('True Label')\n",
        "plt.title('Confusion Matrix')\n",
        "plt.show()"
      ]
    },
    {
      "cell_type": "code",
      "source": [
        "confidence_intervals(test_accuracy, len(test_inputs), 0.95)"
      ],
      "metadata": {
        "colab": {
          "base_uri": "https://localhost:8080/"
        },
        "id": "q7Wj0vuvNtz1",
        "outputId": "c5f02d6a-3e6a-4c15-99b8-e3cf6cd44194"
      },
      "execution_count": 33,
      "outputs": [
        {
          "output_type": "execute_result",
          "data": {
            "text/plain": [
              "(0.5993529900246857, 0.7806470099753142)"
            ]
          },
          "metadata": {},
          "execution_count": 33
        }
      ]
    },
    {
      "cell_type": "markdown",
      "metadata": {
        "id": "SVg6u3TNAUco"
      },
      "source": [
        "## SVM"
      ]
    },
    {
      "cell_type": "code",
      "execution_count": 34,
      "metadata": {
        "colab": {
          "base_uri": "https://localhost:8080/",
          "height": 1000
        },
        "id": "05ppUrCPAUcp",
        "outputId": "874d9208-0559-45e1-9cfe-57b7498102f9"
      },
      "outputs": [
        {
          "output_type": "stream",
          "name": "stdout",
          "text": [
            "Development Set Accuracy: 0.65\n",
            "                   precision    recall  f1-score   support\n",
            "\n",
            "          Fiction       1.00      0.06      0.11        17\n",
            "      Non-Fiction       0.65      1.00      0.79        64\n",
            "Science/Geography       0.00      0.00      0.00        15\n",
            "           Sports       0.00      0.00      0.00         4\n",
            "\n",
            "         accuracy                           0.65       100\n",
            "        macro avg       0.41      0.26      0.22       100\n",
            "     weighted avg       0.58      0.65      0.52       100\n",
            "\n",
            "Test Set Accuracy: 0.67\n",
            "                   precision    recall  f1-score   support\n",
            "\n",
            "          Fiction       1.00      0.12      0.22        16\n",
            "      Non-Fiction       0.66      1.00      0.80        65\n",
            "Science/Geography       0.00      0.00      0.00        16\n",
            "           Sports       0.00      0.00      0.00         3\n",
            "\n",
            "         accuracy                           0.67       100\n",
            "        macro avg       0.42      0.28      0.25       100\n",
            "     weighted avg       0.59      0.67      0.55       100\n",
            "\n"
          ]
        },
        {
          "output_type": "display_data",
          "data": {
            "text/plain": [
              "<Figure size 1000x800 with 2 Axes>"
            ],
            "image/png": "[encoded data removed]"
          },
          "metadata": {}
        }
      ],
      "source": [
        "for data in [train, dev, test]:\n",
        "    data['text'] = data['Category'] + \" [SEP] \" + data['Question'] + \" [SEP] \" + data['Answer']\n",
        "\n",
        "# Prepare the features and labels for each set\n",
        "X_train = train['text']\n",
        "y_train = train['class']\n",
        "X_dev = dev['text']\n",
        "y_dev = dev['class']\n",
        "X_test = test['text']\n",
        "y_test = test['class']\n",
        "\n",
        "# Create a TF-IDF vectorizer\n",
        "vectorizer = TfidfVectorizer(stop_words='english', max_features=10000)\n",
        "\n",
        "# Transform features into TF-IDF coefficients\n",
        "X_train = vectorizer.fit_transform(X_train)\n",
        "X_dev = vectorizer.transform(X_dev)\n",
        "X_test = vectorizer.transform(X_test)\n",
        "\n",
        "# Initialize the SVM classifier\n",
        "svm = SVC(kernel='sigmoid', random_state=42)\n",
        "\n",
        "# Train the model using the training set\n",
        "svm.fit(X_train, y_train)\n",
        "\n",
        "# Validate the model using the development set\n",
        "dev_predictions = svm.predict(X_dev)\n",
        "dev_accuracy = accuracy_score(y_dev, dev_predictions)\n",
        "print(f'Development Set Accuracy: {dev_accuracy}')\n",
        "print(classification_report(y_dev, dev_predictions))\n",
        "\n",
        "# Finally, evaluate the model using the test set\n",
        "test_predictions = svm.predict(X_test)\n",
        "test_accuracy = accuracy_score(y_test, test_predictions)\n",
        "print(f'Test Set Accuracy: {test_accuracy}')\n",
        "print(classification_report(y_test, test_predictions))\n",
        "cm = confusion_matrix(y_test, test_predictions, labels=classes, normalize='true')\n",
        "plt.figure(figsize=(10, 8))\n",
        "sns.heatmap(cm, annot=True, cmap='Blues', xticklabels=classes, yticklabels=classes)\n",
        "plt.xlabel('Predicted Label')\n",
        "plt.ylabel('True Label')\n",
        "plt.title('SVM Confusion Matrix')\n",
        "plt.show()"
      ]
    },
    {
      "cell_type": "code",
      "source": [
        "confidence_intervals(test_accuracy, len(test_inputs), 0.95)"
      ],
      "metadata": {
        "colab": {
          "base_uri": "https://localhost:8080/"
        },
        "id": "oOZn0NQIONid",
        "outputId": "6c5dec34-a27a-4924-81c0-c25d30fd6998"
      },
      "execution_count": 35,
      "outputs": [
        {
          "output_type": "execute_result",
          "data": {
            "text/plain": [
              "(0.5778400007999419, 0.7621599992000582)"
            ]
          },
          "metadata": {},
          "execution_count": 35
        }
      ]
    },
    {
      "cell_type": "markdown",
      "metadata": {
        "id": "DqBbRp8kAUcp"
      },
      "source": [
        "## Random Forests"
      ]
    },
    {
      "cell_type": "code",
      "execution_count": 36,
      "metadata": {
        "colab": {
          "base_uri": "https://localhost:8080/",
          "height": 1000
        },
        "id": "ROqpV4NHAUcp",
        "outputId": "1cd9d77f-2409-46d8-bbd8-471fd38877fc"
      },
      "outputs": [
        {
          "output_type": "stream",
          "name": "stdout",
          "text": [
            "Development Set Accuracy: 0.66\n",
            "                   precision    recall  f1-score   support\n",
            "\n",
            "          Fiction       1.00      0.06      0.11        17\n",
            "      Non-Fiction       0.65      1.00      0.79        64\n",
            "Science/Geography       1.00      0.07      0.12        15\n",
            "           Sports       0.00      0.00      0.00         4\n",
            "\n",
            "         accuracy                           0.66       100\n",
            "        macro avg       0.66      0.28      0.26       100\n",
            "     weighted avg       0.74      0.66      0.54       100\n",
            "\n",
            "Test Set Accuracy: 0.64\n",
            "                   precision    recall  f1-score   support\n",
            "\n",
            "          Fiction       0.67      0.12      0.21        16\n",
            "      Non-Fiction       0.65      0.95      0.78        65\n",
            "Science/Geography       0.00      0.00      0.00        16\n",
            "           Sports       0.00      0.00      0.00         3\n",
            "\n",
            "         accuracy                           0.64       100\n",
            "        macro avg       0.33      0.27      0.25       100\n",
            "     weighted avg       0.53      0.64      0.54       100\n",
            "\n"
          ]
        },
        {
          "output_type": "display_data",
          "data": {
            "text/plain": [
              "<Figure size 1000x800 with 2 Axes>"
            ],
            "image/png": "[encoded data removed]"
          },
          "metadata": {}
        }
      ],
      "source": [
        "random_forest = RandomForestClassifier(n_estimators=10, random_state=42)\n",
        "\n",
        "# Train the model using the training set\n",
        "random_forest.fit(X_train, y_train)\n",
        "\n",
        "# Validate the model using the development set\n",
        "dev_predictions = random_forest.predict(X_dev)\n",
        "dev_accuracy = accuracy_score(y_dev, dev_predictions)\n",
        "print(f'Development Set Accuracy: {dev_accuracy}')\n",
        "print(classification_report(y_dev, dev_predictions))\n",
        "\n",
        "# Finally, evaluate the model using the test set\n",
        "test_predictions = random_forest.predict(X_test)\n",
        "test_accuracy = accuracy_score(y_test, test_predictions)\n",
        "print(f'Test Set Accuracy: {test_accuracy}')\n",
        "print(classification_report(y_test, test_predictions))\n",
        "\n",
        "cm = confusion_matrix(y_test, test_predictions, labels=classes, normalize='true')\n",
        "plt.figure(figsize=(10, 8))\n",
        "sns.heatmap(cm, annot=True, cmap='Blues', xticklabels=classes, yticklabels=classes)\n",
        "plt.xlabel('Predicted Label')\n",
        "plt.ylabel('True Label')\n",
        "plt.title('Random Forest Confusion Matrix')\n",
        "plt.show()"
      ]
    },
    {
      "cell_type": "code",
      "source": [
        "confidence_intervals(test_accuracy, len(test_inputs), 0.95)"
      ],
      "metadata": {
        "colab": {
          "base_uri": "https://localhost:8080/"
        },
        "id": "wPxbzn_NOUDX",
        "outputId": "1de2522f-9970-465a-bcce-20959cb82ae3"
      },
      "execution_count": 37,
      "outputs": [
        {
          "output_type": "execute_result",
          "data": {
            "text/plain": [
              "(0.5459217287420775, 0.7340782712579226)"
            ]
          },
          "metadata": {},
          "execution_count": 37
        }
      ]
    },
    {
      "cell_type": "markdown",
      "metadata": {
        "id": "WQPveJ3mAUcq"
      },
      "source": [
        "## Logistic Regression"
      ]
    },
    {
      "cell_type": "code",
      "execution_count": 38,
      "metadata": {
        "colab": {
          "base_uri": "https://localhost:8080/",
          "height": 1000
        },
        "id": "_Odm6IzzAUcq",
        "outputId": "d273f730-c086-4d78-f10d-8da7bde33757"
      },
      "outputs": [
        {
          "output_type": "stream",
          "name": "stdout",
          "text": [
            "Development Set Accuracy: 0.64\n",
            "                   precision    recall  f1-score   support\n",
            "\n",
            "          Fiction       0.00      0.00      0.00        17\n",
            "      Non-Fiction       0.64      1.00      0.78        64\n",
            "Science/Geography       0.00      0.00      0.00        15\n",
            "           Sports       0.00      0.00      0.00         4\n",
            "\n",
            "         accuracy                           0.64       100\n",
            "        macro avg       0.16      0.25      0.20       100\n",
            "     weighted avg       0.41      0.64      0.50       100\n",
            "\n",
            "Test Set Accuracy: 0.65\n",
            "                   precision    recall  f1-score   support\n",
            "\n",
            "          Fiction       0.00      0.00      0.00        16\n",
            "      Non-Fiction       0.65      1.00      0.79        65\n",
            "Science/Geography       0.00      0.00      0.00        16\n",
            "           Sports       0.00      0.00      0.00         3\n",
            "\n",
            "         accuracy                           0.65       100\n",
            "        macro avg       0.16      0.25      0.20       100\n",
            "     weighted avg       0.42      0.65      0.51       100\n",
            "\n"
          ]
        },
        {
          "output_type": "display_data",
          "data": {
            "text/plain": [
              "<Figure size 1000x800 with 2 Axes>"
            ],
            "image/png": "[encoded data removed]"
          },
          "metadata": {}
        }
      ],
      "source": [
        "logistic_regression = LogisticRegression(max_iter=1000)\n",
        "\n",
        "# Train the model using the training set\n",
        "logistic_regression.fit(X_train, y_train)\n",
        "\n",
        "# Validate the model using the development set\n",
        "dev_predictions = logistic_regression.predict(X_dev)\n",
        "dev_accuracy = accuracy_score(y_dev, dev_predictions)\n",
        "print(f'Development Set Accuracy: {dev_accuracy}')\n",
        "print(classification_report(y_dev, dev_predictions))\n",
        "\n",
        "# Finally, evaluate the model using the test set\n",
        "test_predictions = logistic_regression.predict(X_test)\n",
        "test_accuracy = accuracy_score(y_test, test_predictions)\n",
        "print(f'Test Set Accuracy: {test_accuracy}')\n",
        "print(classification_report(y_test, test_predictions))\n",
        "\n",
        "cm = confusion_matrix(y_test, test_predictions, labels=classes, normalize='true')\n",
        "plt.figure(figsize=(10, 8))\n",
        "sns.heatmap(cm, annot=True, cmap='Blues', xticklabels=classes, yticklabels=classes)\n",
        "plt.xlabel('Predicted Label')\n",
        "plt.ylabel('True Label')\n",
        "plt.title('Logistic Regression Confusion Matrix')\n",
        "plt.show()"
      ]
    },
    {
      "cell_type": "code",
      "source": [
        "confidence_intervals(test_accuracy, len(test_inputs), 0.95)"
      ],
      "metadata": {
        "colab": {
          "base_uri": "https://localhost:8080/"
        },
        "id": "wAauhivXOVyT",
        "outputId": "051307e4-a920-4dcb-f4fd-4c6714aabb8c"
      },
      "execution_count": 39,
      "outputs": [
        {
          "output_type": "execute_result",
          "data": {
            "text/plain": [
              "(0.5565156760890944, 0.7434843239109057)"
            ]
          },
          "metadata": {},
          "execution_count": 39
        }
      ]
    },
    {
      "cell_type": "markdown",
      "metadata": {
        "id": "SfKtJYZfAUcq"
      },
      "source": [
        "## Balanced Logistic"
      ]
    },
    {
      "cell_type": "code",
      "execution_count": 40,
      "metadata": {
        "colab": {
          "base_uri": "https://localhost:8080/",
          "height": 1000
        },
        "id": "FBWotodgAUcq",
        "outputId": "dd4f277d-e063-4adb-cf87-b948da73d769"
      },
      "outputs": [
        {
          "output_type": "stream",
          "name": "stdout",
          "text": [
            "Development Set Accuracy: 0.6\n",
            "                   precision    recall  f1-score   support\n",
            "\n",
            "          Fiction       0.25      0.18      0.21        17\n",
            "      Non-Fiction       0.68      0.81      0.74        64\n",
            "Science/Geography       0.50      0.33      0.40        15\n",
            "           Sports       0.00      0.00      0.00         4\n",
            "\n",
            "         accuracy                           0.60       100\n",
            "        macro avg       0.36      0.33      0.34       100\n",
            "     weighted avg       0.55      0.60      0.57       100\n",
            "\n",
            "Test Set Accuracy: 0.69\n",
            "                   precision    recall  f1-score   support\n",
            "\n",
            "          Fiction       0.78      0.44      0.56        16\n",
            "      Non-Fiction       0.72      0.89      0.79        65\n",
            "Science/Geography       0.40      0.25      0.31        16\n",
            "           Sports       0.00      0.00      0.00         3\n",
            "\n",
            "         accuracy                           0.69       100\n",
            "        macro avg       0.47      0.39      0.42       100\n",
            "     weighted avg       0.65      0.69      0.66       100\n",
            "\n"
          ]
        },
        {
          "output_type": "display_data",
          "data": {
            "text/plain": [
              "<Figure size 1000x800 with 2 Axes>"
            ],
            "image/png": "[encoded data removed]"
          },
          "metadata": {}
        }
      ],
      "source": [
        "from sklearn.linear_model import LogisticRegression\n",
        "\n",
        "logistic_regression = LogisticRegression(max_iter=1000, class_weight='balanced')\n",
        "\n",
        "# Train the model using the training set\n",
        "logistic_regression.fit(X_train, y_train)\n",
        "\n",
        "# Validate the model using the development set\n",
        "dev_predictions = logistic_regression.predict(X_dev)\n",
        "dev_accuracy = accuracy_score(y_dev, dev_predictions)\n",
        "print(f'Development Set Accuracy: {dev_accuracy}')\n",
        "print(classification_report(y_dev, dev_predictions))\n",
        "\n",
        "# Finally, evaluate the model using the test set\n",
        "test_predictions = logistic_regression.predict(X_test)\n",
        "test_accuracy = accuracy_score(y_test, test_predictions)\n",
        "print(f'Test Set Accuracy: {test_accuracy}')\n",
        "print(classification_report(y_test, test_predictions))\n",
        "\n",
        "cm = confusion_matrix(y_test, test_predictions, labels=classes, normalize='true')\n",
        "plt.figure(figsize=(10, 8))\n",
        "sns.heatmap(cm, annot=True, cmap='Blues', xticklabels=classes, yticklabels=classes)\n",
        "plt.xlabel('Predicted Label')\n",
        "plt.ylabel('True Label')\n",
        "plt.title('Logistic Regression Confusion Matrix')\n",
        "plt.show()"
      ]
    },
    {
      "cell_type": "code",
      "source": [
        "confidence_intervals(test_accuracy, len(test_inputs), 0.95)"
      ],
      "metadata": {
        "colab": {
          "base_uri": "https://localhost:8080/"
        },
        "id": "PFrV9zmUKBli",
        "outputId": "6b678377-0fb5-40d2-c8b5-689cf8fea6af"
      },
      "execution_count": 41,
      "outputs": [
        {
          "output_type": "execute_result",
          "data": {
            "text/plain": [
              "(0.5993529900246857, 0.7806470099753142)"
            ]
          },
          "metadata": {},
          "execution_count": 41
        }
      ]
    },
    {
      "cell_type": "code",
      "source": [],
      "metadata": {
        "id": "itixTvwnKBoo"
      },
      "execution_count": 41,
      "outputs": []
    }
  ],
  "metadata": {
    "kernelspec": {
      "display_name": "Python 3",
      "name": "python3"
    },
    "language_info": {
      "codemirror_mode": {
        "name": "ipython",
        "version": 3
      },
      "file_extension": ".py",
      "mimetype": "text/x-python",
      "name": "python",
      "nbconvert_exporter": "python",
      "pygments_lexer": "ipython3",
      "version": "3.9.5"
    },
    "colab": {
      "provenance": [],
      "gpuType": "T4"
    },
    "accelerator": "GPU",
    "widgets": {
      "application/vnd.jupyter.widget-state+json": {
        "1f72ebc90f9547b1839c0895ebe294ad": {
          "model_module": "@jupyter-widgets/controls",
          "model_name": "HBoxModel",
          "model_module_version": "1.5.0",
          "state": {
            "_dom_classes": [],
            "_model_module": "@jupyter-widgets/controls",
            "_model_module_version": "1.5.0",
            "_model_name": "HBoxModel",
            "_view_count": null,
            "_view_module": "@jupyter-widgets/controls",
            "_view_module_version": "1.5.0",
            "_view_name": "HBoxView",
            "box_style": "",
            "children": [
              "IPY_MODEL_5ba6b8a752b643ccb8bb333daef84eae",
              "IPY_MODEL_84d735934d114ddb876fa8a117e02fcc",
              "IPY_MODEL_26901b15236746398f6f7ac020c39e4c"
            ],
            "layout": "IPY_MODEL_c5ad6f19bdf9471a9571368311aaaf53"
          }
        },
        "5ba6b8a752b643ccb8bb333daef84eae": {
          "model_module": "@jupyter-widgets/controls",
          "model_name": "HTMLModel",
          "model_module_version": "1.5.0",
          "state": {
            "_dom_classes": [],
            "_model_module": "@jupyter-widgets/controls",
            "_model_module_version": "1.5.0",
            "_model_name": "HTMLModel",
            "_view_count": null,
            "_view_module": "@jupyter-widgets/controls",
            "_view_module_version": "1.5.0",
            "_view_name": "HTMLView",
            "description": "",
            "description_tooltip": null,
            "layout": "IPY_MODEL_0447a4c66bc74f7ab2852581b8eda522",
            "placeholder": "​",
            "style": "IPY_MODEL_61a78f82b6604c7ab8089145e900faae",
            "value": "tokenizer_config.json: 100%"
          }
        },
        "84d735934d114ddb876fa8a117e02fcc": {
          "model_module": "@jupyter-widgets/controls",
          "model_name": "FloatProgressModel",
          "model_module_version": "1.5.0",
          "state": {
            "_dom_classes": [],
            "_model_module": "@jupyter-widgets/controls",
            "_model_module_version": "1.5.0",
            "_model_name": "FloatProgressModel",
            "_view_count": null,
            "_view_module": "@jupyter-widgets/controls",
            "_view_module_version": "1.5.0",
            "_view_name": "ProgressView",
            "bar_style": "success",
            "description": "",
            "description_tooltip": null,
            "layout": "IPY_MODEL_7d392588a827429b8d1737f87114201a",
            "max": 28,
            "min": 0,
            "orientation": "horizontal",
            "style": "IPY_MODEL_79ea563464a94d74b22d80c4dfe625be",
            "value": 28
          }
        },
        "26901b15236746398f6f7ac020c39e4c": {
          "model_module": "@jupyter-widgets/controls",
          "model_name": "HTMLModel",
          "model_module_version": "1.5.0",
          "state": {
            "_dom_classes": [],
            "_model_module": "@jupyter-widgets/controls",
            "_model_module_version": "1.5.0",
            "_model_name": "HTMLModel",
            "_view_count": null,
            "_view_module": "@jupyter-widgets/controls",
            "_view_module_version": "1.5.0",
            "_view_name": "HTMLView",
            "description": "",
            "description_tooltip": null,
            "layout": "IPY_MODEL_7445ed326fdc49e186be823378a7a5c4",
            "placeholder": "​",
            "style": "IPY_MODEL_07b51e857cf7411eadc95cded8ddcf00",
            "value": " 28.0/28.0 [00:00&lt;00:00, 429B/s]"
          }
        },
        "c5ad6f19bdf9471a9571368311aaaf53": {
          "model_module": "@jupyter-widgets/base",
          "model_name": "LayoutModel",
          "model_module_version": "1.2.0",
          "state": {
            "_model_module": "@jupyter-widgets/base",
            "_model_module_version": "1.2.0",
            "_model_name": "LayoutModel",
            "_view_count": null,
            "_view_module": "@jupyter-widgets/base",
            "_view_module_version": "1.2.0",
            "_view_name": "LayoutView",
            "align_content": null,
            "align_items": null,
            "align_self": null,
            "border": null,
            "bottom": null,
            "display": null,
            "flex": null,
            "flex_flow": null,
            "grid_area": null,
            "grid_auto_columns": null,
            "grid_auto_flow": null,
            "grid_auto_rows": null,
            "grid_column": null,
            "grid_gap": null,
            "grid_row": null,
            "grid_template_areas": null,
            "grid_template_columns": null,
            "grid_template_rows": null,
            "height": null,
            "justify_content": null,
            "justify_items": null,
            "left": null,
            "margin": null,
            "max_height": null,
            "max_width": null,
            "min_height": null,
            "min_width": null,
            "object_fit": null,
            "object_position": null,
            "order": null,
            "overflow": null,
            "overflow_x": null,
            "overflow_y": null,
            "padding": null,
            "right": null,
            "top": null,
            "visibility": null,
            "width": null
          }
        },
        "0447a4c66bc74f7ab2852581b8eda522": {
          "model_module": "@jupyter-widgets/base",
          "model_name": "LayoutModel",
          "model_module_version": "1.2.0",
          "state": {
            "_model_module": "@jupyter-widgets/base",
            "_model_module_version": "1.2.0",
            "_model_name": "LayoutModel",
            "_view_count": null,
            "_view_module": "@jupyter-widgets/base",
            "_view_module_version": "1.2.0",
            "_view_name": "LayoutView",
            "align_content": null,
            "align_items": null,
            "align_self": null,
            "border": null,
            "bottom": null,
            "display": null,
            "flex": null,
            "flex_flow": null,
            "grid_area": null,
            "grid_auto_columns": null,
            "grid_auto_flow": null,
            "grid_auto_rows": null,
            "grid_column": null,
            "grid_gap": null,
            "grid_row": null,
            "grid_template_areas": null,
            "grid_template_columns": null,
            "grid_template_rows": null,
            "height": null,
            "justify_content": null,
            "justify_items": null,
            "left": null,
            "margin": null,
            "max_height": null,
            "max_width": null,
            "min_height": null,
            "min_width": null,
            "object_fit": null,
            "object_position": null,
            "order": null,
            "overflow": null,
            "overflow_x": null,
            "overflow_y": null,
            "padding": null,
            "right": null,
            "top": null,
            "visibility": null,
            "width": null
          }
        },
        "61a78f82b6604c7ab8089145e900faae": {
          "model_module": "@jupyter-widgets/controls",
          "model_name": "DescriptionStyleModel",
          "model_module_version": "1.5.0",
          "state": {
            "_model_module": "@jupyter-widgets/controls",
            "_model_module_version": "1.5.0",
            "_model_name": "DescriptionStyleModel",
            "_view_count": null,
            "_view_module": "@jupyter-widgets/base",
            "_view_module_version": "1.2.0",
            "_view_name": "StyleView",
            "description_width": ""
          }
        },
        "7d392588a827429b8d1737f87114201a": {
          "model_module": "@jupyter-widgets/base",
          "model_name": "LayoutModel",
          "model_module_version": "1.2.0",
          "state": {
            "_model_module": "@jupyter-widgets/base",
            "_model_module_version": "1.2.0",
            "_model_name": "LayoutModel",
            "_view_count": null,
            "_view_module": "@jupyter-widgets/base",
            "_view_module_version": "1.2.0",
            "_view_name": "LayoutView",
            "align_content": null,
            "align_items": null,
            "align_self": null,
            "border": null,
            "bottom": null,
            "display": null,
            "flex": null,
            "flex_flow": null,
            "grid_area": null,
            "grid_auto_columns": null,
            "grid_auto_flow": null,
            "grid_auto_rows": null,
            "grid_column": null,
            "grid_gap": null,
            "grid_row": null,
            "grid_template_areas": null,
            "grid_template_columns": null,
            "grid_template_rows": null,
            "height": null,
            "justify_content": null,
            "justify_items": null,
            "left": null,
            "margin": null,
            "max_height": null,
            "max_width": null,
            "min_height": null,
            "min_width": null,
            "object_fit": null,
            "object_position": null,
            "order": null,
            "overflow": null,
            "overflow_x": null,
            "overflow_y": null,
            "padding": null,
            "right": null,
            "top": null,
            "visibility": null,
            "width": null
          }
        },
        "79ea563464a94d74b22d80c4dfe625be": {
          "model_module": "@jupyter-widgets/controls",
          "model_name": "ProgressStyleModel",
          "model_module_version": "1.5.0",
          "state": {
            "_model_module": "@jupyter-widgets/controls",
            "_model_module_version": "1.5.0",
            "_model_name": "ProgressStyleModel",
            "_view_count": null,
            "_view_module": "@jupyter-widgets/base",
            "_view_module_version": "1.2.0",
            "_view_name": "StyleView",
            "bar_color": null,
            "description_width": ""
          }
        },
        "7445ed326fdc49e186be823378a7a5c4": {
          "model_module": "@jupyter-widgets/base",
          "model_name": "LayoutModel",
          "model_module_version": "1.2.0",
          "state": {
            "_model_module": "@jupyter-widgets/base",
            "_model_module_version": "1.2.0",
            "_model_name": "LayoutModel",
            "_view_count": null,
            "_view_module": "@jupyter-widgets/base",
            "_view_module_version": "1.2.0",
            "_view_name": "LayoutView",
            "align_content": null,
            "align_items": null,
            "align_self": null,
            "border": null,
            "bottom": null,
            "display": null,
            "flex": null,
            "flex_flow": null,
            "grid_area": null,
            "grid_auto_columns": null,
            "grid_auto_flow": null,
            "grid_auto_rows": null,
            "grid_column": null,
            "grid_gap": null,
            "grid_row": null,
            "grid_template_areas": null,
            "grid_template_columns": null,
            "grid_template_rows": null,
            "height": null,
            "justify_content": null,
            "justify_items": null,
            "left": null,
            "margin": null,
            "max_height": null,
            "max_width": null,
            "min_height": null,
            "min_width": null,
            "object_fit": null,
            "object_position": null,
            "order": null,
            "overflow": null,
            "overflow_x": null,
            "overflow_y": null,
            "padding": null,
            "right": null,
            "top": null,
            "visibility": null,
            "width": null
          }
        },
        "07b51e857cf7411eadc95cded8ddcf00": {
          "model_module": "@jupyter-widgets/controls",
          "model_name": "DescriptionStyleModel",
          "model_module_version": "1.5.0",
          "state": {
            "_model_module": "@jupyter-widgets/controls",
            "_model_module_version": "1.5.0",
            "_model_name": "DescriptionStyleModel",
            "_view_count": null,
            "_view_module": "@jupyter-widgets/base",
            "_view_module_version": "1.2.0",
            "_view_name": "StyleView",
            "description_width": ""
          }
        },
        "31a64ca14bb24314bd8d7b0082d04dd4": {
          "model_module": "@jupyter-widgets/controls",
          "model_name": "HBoxModel",
          "model_module_version": "1.5.0",
          "state": {
            "_dom_classes": [],
            "_model_module": "@jupyter-widgets/controls",
            "_model_module_version": "1.5.0",
            "_model_name": "HBoxModel",
            "_view_count": null,
            "_view_module": "@jupyter-widgets/controls",
            "_view_module_version": "1.5.0",
            "_view_name": "HBoxView",
            "box_style": "",
            "children": [
              "IPY_MODEL_b553bd2e22e7403da2f0bb544423aff6",
              "IPY_MODEL_4b98dd9e2f3e44ea8d924e49465ab4a3",
              "IPY_MODEL_2410ee0cfcff49679e06665db50420ac"
            ],
            "layout": "IPY_MODEL_98f2049211784605bddef2fd1ff6a907"
          }
        },
        "b553bd2e22e7403da2f0bb544423aff6": {
          "model_module": "@jupyter-widgets/controls",
          "model_name": "HTMLModel",
          "model_module_version": "1.5.0",
          "state": {
            "_dom_classes": [],
            "_model_module": "@jupyter-widgets/controls",
            "_model_module_version": "1.5.0",
            "_model_name": "HTMLModel",
            "_view_count": null,
            "_view_module": "@jupyter-widgets/controls",
            "_view_module_version": "1.5.0",
            "_view_name": "HTMLView",
            "description": "",
            "description_tooltip": null,
            "layout": "IPY_MODEL_38fc7124e0fc45c390733ff71a6cba9b",
            "placeholder": "​",
            "style": "IPY_MODEL_9ce62dcd23794979b4deaafae87901cc",
            "value": "vocab.txt: 100%"
          }
        },
        "4b98dd9e2f3e44ea8d924e49465ab4a3": {
          "model_module": "@jupyter-widgets/controls",
          "model_name": "FloatProgressModel",
          "model_module_version": "1.5.0",
          "state": {
            "_dom_classes": [],
            "_model_module": "@jupyter-widgets/controls",
            "_model_module_version": "1.5.0",
            "_model_name": "FloatProgressModel",
            "_view_count": null,
            "_view_module": "@jupyter-widgets/controls",
            "_view_module_version": "1.5.0",
            "_view_name": "ProgressView",
            "bar_style": "success",
            "description": "",
            "description_tooltip": null,
            "layout": "IPY_MODEL_1e914592cf9f42a2a5fc1c00b8208c3e",
            "max": 231508,
            "min": 0,
            "orientation": "horizontal",
            "style": "IPY_MODEL_03d1f00b69e3457fb2716a181619d06e",
            "value": 231508
          }
        },
        "2410ee0cfcff49679e06665db50420ac": {
          "model_module": "@jupyter-widgets/controls",
          "model_name": "HTMLModel",
          "model_module_version": "1.5.0",
          "state": {
            "_dom_classes": [],
            "_model_module": "@jupyter-widgets/controls",
            "_model_module_version": "1.5.0",
            "_model_name": "HTMLModel",
            "_view_count": null,
            "_view_module": "@jupyter-widgets/controls",
            "_view_module_version": "1.5.0",
            "_view_name": "HTMLView",
            "description": "",
            "description_tooltip": null,
            "layout": "IPY_MODEL_6db9b52a0f6140c6a268b97230e1375d",
            "placeholder": "​",
            "style": "IPY_MODEL_4964a02cde1f419d8968fba546b6933b",
            "value": " 232k/232k [00:00&lt;00:00, 581kB/s]"
          }
        },
        "98f2049211784605bddef2fd1ff6a907": {
          "model_module": "@jupyter-widgets/base",
          "model_name": "LayoutModel",
          "model_module_version": "1.2.0",
          "state": {
            "_model_module": "@jupyter-widgets/base",
            "_model_module_version": "1.2.0",
            "_model_name": "LayoutModel",
            "_view_count": null,
            "_view_module": "@jupyter-widgets/base",
            "_view_module_version": "1.2.0",
            "_view_name": "LayoutView",
            "align_content": null,
            "align_items": null,
            "align_self": null,
            "border": null,
            "bottom": null,
            "display": null,
            "flex": null,
            "flex_flow": null,
            "grid_area": null,
            "grid_auto_columns": null,
            "grid_auto_flow": null,
            "grid_auto_rows": null,
            "grid_column": null,
            "grid_gap": null,
            "grid_row": null,
            "grid_template_areas": null,
            "grid_template_columns": null,
            "grid_template_rows": null,
            "height": null,
            "justify_content": null,
            "justify_items": null,
            "left": null,
            "margin": null,
            "max_height": null,
            "max_width": null,
            "min_height": null,
            "min_width": null,
            "object_fit": null,
            "object_position": null,
            "order": null,
            "overflow": null,
            "overflow_x": null,
            "overflow_y": null,
            "padding": null,
            "right": null,
            "top": null,
            "visibility": null,
            "width": null
          }
        },
        "38fc7124e0fc45c390733ff71a6cba9b": {
          "model_module": "@jupyter-widgets/base",
          "model_name": "LayoutModel",
          "model_module_version": "1.2.0",
          "state": {
            "_model_module": "@jupyter-widgets/base",
            "_model_module_version": "1.2.0",
            "_model_name": "LayoutModel",
            "_view_count": null,
            "_view_module": "@jupyter-widgets/base",
            "_view_module_version": "1.2.0",
            "_view_name": "LayoutView",
            "align_content": null,
            "align_items": null,
            "align_self": null,
            "border": null,
            "bottom": null,
            "display": null,
            "flex": null,
            "flex_flow": null,
            "grid_area": null,
            "grid_auto_columns": null,
            "grid_auto_flow": null,
            "grid_auto_rows": null,
            "grid_column": null,
            "grid_gap": null,
            "grid_row": null,
            "grid_template_areas": null,
            "grid_template_columns": null,
            "grid_template_rows": null,
            "height": null,
            "justify_content": null,
            "justify_items": null,
            "left": null,
            "margin": null,
            "max_height": null,
            "max_width": null,
            "min_height": null,
            "min_width": null,
            "object_fit": null,
            "object_position": null,
            "order": null,
            "overflow": null,
            "overflow_x": null,
            "overflow_y": null,
            "padding": null,
            "right": null,
            "top": null,
            "visibility": null,
            "width": null
          }
        },
        "9ce62dcd23794979b4deaafae87901cc": {
          "model_module": "@jupyter-widgets/controls",
          "model_name": "DescriptionStyleModel",
          "model_module_version": "1.5.0",
          "state": {
            "_model_module": "@jupyter-widgets/controls",
            "_model_module_version": "1.5.0",
            "_model_name": "DescriptionStyleModel",
            "_view_count": null,
            "_view_module": "@jupyter-widgets/base",
            "_view_module_version": "1.2.0",
            "_view_name": "StyleView",
            "description_width": ""
          }
        },
        "1e914592cf9f42a2a5fc1c00b8208c3e": {
          "model_module": "@jupyter-widgets/base",
          "model_name": "LayoutModel",
          "model_module_version": "1.2.0",
          "state": {
            "_model_module": "@jupyter-widgets/base",
            "_model_module_version": "1.2.0",
            "_model_name": "LayoutModel",
            "_view_count": null,
            "_view_module": "@jupyter-widgets/base",
            "_view_module_version": "1.2.0",
            "_view_name": "LayoutView",
            "align_content": null,
            "align_items": null,
            "align_self": null,
            "border": null,
            "bottom": null,
            "display": null,
            "flex": null,
            "flex_flow": null,
            "grid_area": null,
            "grid_auto_columns": null,
            "grid_auto_flow": null,
            "grid_auto_rows": null,
            "grid_column": null,
            "grid_gap": null,
            "grid_row": null,
            "grid_template_areas": null,
            "grid_template_columns": null,
            "grid_template_rows": null,
            "height": null,
            "justify_content": null,
            "justify_items": null,
            "left": null,
            "margin": null,
            "max_height": null,
            "max_width": null,
            "min_height": null,
            "min_width": null,
            "object_fit": null,
            "object_position": null,
            "order": null,
            "overflow": null,
            "overflow_x": null,
            "overflow_y": null,
            "padding": null,
            "right": null,
            "top": null,
            "visibility": null,
            "width": null
          }
        },
        "03d1f00b69e3457fb2716a181619d06e": {
          "model_module": "@jupyter-widgets/controls",
          "model_name": "ProgressStyleModel",
          "model_module_version": "1.5.0",
          "state": {
            "_model_module": "@jupyter-widgets/controls",
            "_model_module_version": "1.5.0",
            "_model_name": "ProgressStyleModel",
            "_view_count": null,
            "_view_module": "@jupyter-widgets/base",
            "_view_module_version": "1.2.0",
            "_view_name": "StyleView",
            "bar_color": null,
            "description_width": ""
          }
        },
        "6db9b52a0f6140c6a268b97230e1375d": {
          "model_module": "@jupyter-widgets/base",
          "model_name": "LayoutModel",
          "model_module_version": "1.2.0",
          "state": {
            "_model_module": "@jupyter-widgets/base",
            "_model_module_version": "1.2.0",
            "_model_name": "LayoutModel",
            "_view_count": null,
            "_view_module": "@jupyter-widgets/base",
            "_view_module_version": "1.2.0",
            "_view_name": "LayoutView",
            "align_content": null,
            "align_items": null,
            "align_self": null,
            "border": null,
            "bottom": null,
            "display": null,
            "flex": null,
            "flex_flow": null,
            "grid_area": null,
            "grid_auto_columns": null,
            "grid_auto_flow": null,
            "grid_auto_rows": null,
            "grid_column": null,
            "grid_gap": null,
            "grid_row": null,
            "grid_template_areas": null,
            "grid_template_columns": null,
            "grid_template_rows": null,
            "height": null,
            "justify_content": null,
            "justify_items": null,
            "left": null,
            "margin": null,
            "max_height": null,
            "max_width": null,
            "min_height": null,
            "min_width": null,
            "object_fit": null,
            "object_position": null,
            "order": null,
            "overflow": null,
            "overflow_x": null,
            "overflow_y": null,
            "padding": null,
            "right": null,
            "top": null,
            "visibility": null,
            "width": null
          }
        },
        "4964a02cde1f419d8968fba546b6933b": {
          "model_module": "@jupyter-widgets/controls",
          "model_name": "DescriptionStyleModel",
          "model_module_version": "1.5.0",
          "state": {
            "_model_module": "@jupyter-widgets/controls",
            "_model_module_version": "1.5.0",
            "_model_name": "DescriptionStyleModel",
            "_view_count": null,
            "_view_module": "@jupyter-widgets/base",
            "_view_module_version": "1.2.0",
            "_view_name": "StyleView",
            "description_width": ""
          }
        },
        "1b45a3f25bfb4edc90ad44f11f7be5e7": {
          "model_module": "@jupyter-widgets/controls",
          "model_name": "HBoxModel",
          "model_module_version": "1.5.0",
          "state": {
            "_dom_classes": [],
            "_model_module": "@jupyter-widgets/controls",
            "_model_module_version": "1.5.0",
            "_model_name": "HBoxModel",
            "_view_count": null,
            "_view_module": "@jupyter-widgets/controls",
            "_view_module_version": "1.5.0",
            "_view_name": "HBoxView",
            "box_style": "",
            "children": [
              "IPY_MODEL_b43dc68fbcc84f0d8cc37131c81822ca",
              "IPY_MODEL_d00e799c398842ea912080c3ca79fecb",
              "IPY_MODEL_8e0467e4b613431ba4285a87875fb33d"
            ],
            "layout": "IPY_MODEL_4ad7797140424637a7606631fe475295"
          }
        },
        "b43dc68fbcc84f0d8cc37131c81822ca": {
          "model_module": "@jupyter-widgets/controls",
          "model_name": "HTMLModel",
          "model_module_version": "1.5.0",
          "state": {
            "_dom_classes": [],
            "_model_module": "@jupyter-widgets/controls",
            "_model_module_version": "1.5.0",
            "_model_name": "HTMLModel",
            "_view_count": null,
            "_view_module": "@jupyter-widgets/controls",
            "_view_module_version": "1.5.0",
            "_view_name": "HTMLView",
            "description": "",
            "description_tooltip": null,
            "layout": "IPY_MODEL_e9cd40eeedc64c189b25e6c92ace9dd3",
            "placeholder": "​",
            "style": "IPY_MODEL_039ffb03e0704fc69448563452073e7c",
            "value": "tokenizer.json: 100%"
          }
        },
        "d00e799c398842ea912080c3ca79fecb": {
          "model_module": "@jupyter-widgets/controls",
          "model_name": "FloatProgressModel",
          "model_module_version": "1.5.0",
          "state": {
            "_dom_classes": [],
            "_model_module": "@jupyter-widgets/controls",
            "_model_module_version": "1.5.0",
            "_model_name": "FloatProgressModel",
            "_view_count": null,
            "_view_module": "@jupyter-widgets/controls",
            "_view_module_version": "1.5.0",
            "_view_name": "ProgressView",
            "bar_style": "success",
            "description": "",
            "description_tooltip": null,
            "layout": "IPY_MODEL_09f6431cab69428c88d128a8a13f3cee",
            "max": 466062,
            "min": 0,
            "orientation": "horizontal",
            "style": "IPY_MODEL_af2a4e8a554646e490d123ca9c4851b0",
            "value": 466062
          }
        },
        "8e0467e4b613431ba4285a87875fb33d": {
          "model_module": "@jupyter-widgets/controls",
          "model_name": "HTMLModel",
          "model_module_version": "1.5.0",
          "state": {
            "_dom_classes": [],
            "_model_module": "@jupyter-widgets/controls",
            "_model_module_version": "1.5.0",
            "_model_name": "HTMLModel",
            "_view_count": null,
            "_view_module": "@jupyter-widgets/controls",
            "_view_module_version": "1.5.0",
            "_view_name": "HTMLView",
            "description": "",
            "description_tooltip": null,
            "layout": "IPY_MODEL_18ac1c708252426ca883cd5f4a61f455",
            "placeholder": "​",
            "style": "IPY_MODEL_ac223182a9e446359c46d5875e19daee",
            "value": " 466k/466k [00:00&lt;00:00, 782kB/s]"
          }
        },
        "4ad7797140424637a7606631fe475295": {
          "model_module": "@jupyter-widgets/base",
          "model_name": "LayoutModel",
          "model_module_version": "1.2.0",
          "state": {
            "_model_module": "@jupyter-widgets/base",
            "_model_module_version": "1.2.0",
            "_model_name": "LayoutModel",
            "_view_count": null,
            "_view_module": "@jupyter-widgets/base",
            "_view_module_version": "1.2.0",
            "_view_name": "LayoutView",
            "align_content": null,
            "align_items": null,
            "align_self": null,
            "border": null,
            "bottom": null,
            "display": null,
            "flex": null,
            "flex_flow": null,
            "grid_area": null,
            "grid_auto_columns": null,
            "grid_auto_flow": null,
            "grid_auto_rows": null,
            "grid_column": null,
            "grid_gap": null,
            "grid_row": null,
            "grid_template_areas": null,
            "grid_template_columns": null,
            "grid_template_rows": null,
            "height": null,
            "justify_content": null,
            "justify_items": null,
            "left": null,
            "margin": null,
            "max_height": null,
            "max_width": null,
            "min_height": null,
            "min_width": null,
            "object_fit": null,
            "object_position": null,
            "order": null,
            "overflow": null,
            "overflow_x": null,
            "overflow_y": null,
            "padding": null,
            "right": null,
            "top": null,
            "visibility": null,
            "width": null
          }
        },
        "e9cd40eeedc64c189b25e6c92ace9dd3": {
          "model_module": "@jupyter-widgets/base",
          "model_name": "LayoutModel",
          "model_module_version": "1.2.0",
          "state": {
            "_model_module": "@jupyter-widgets/base",
            "_model_module_version": "1.2.0",
            "_model_name": "LayoutModel",
            "_view_count": null,
            "_view_module": "@jupyter-widgets/base",
            "_view_module_version": "1.2.0",
            "_view_name": "LayoutView",
            "align_content": null,
            "align_items": null,
            "align_self": null,
            "border": null,
            "bottom": null,
            "display": null,
            "flex": null,
            "flex_flow": null,
            "grid_area": null,
            "grid_auto_columns": null,
            "grid_auto_flow": null,
            "grid_auto_rows": null,
            "grid_column": null,
            "grid_gap": null,
            "grid_row": null,
            "grid_template_areas": null,
            "grid_template_columns": null,
            "grid_template_rows": null,
            "height": null,
            "justify_content": null,
            "justify_items": null,
            "left": null,
            "margin": null,
            "max_height": null,
            "max_width": null,
            "min_height": null,
            "min_width": null,
            "object_fit": null,
            "object_position": null,
            "order": null,
            "overflow": null,
            "overflow_x": null,
            "overflow_y": null,
            "padding": null,
            "right": null,
            "top": null,
            "visibility": null,
            "width": null
          }
        },
        "039ffb03e0704fc69448563452073e7c": {
          "model_module": "@jupyter-widgets/controls",
          "model_name": "DescriptionStyleModel",
          "model_module_version": "1.5.0",
          "state": {
            "_model_module": "@jupyter-widgets/controls",
            "_model_module_version": "1.5.0",
            "_model_name": "DescriptionStyleModel",
            "_view_count": null,
            "_view_module": "@jupyter-widgets/base",
            "_view_module_version": "1.2.0",
            "_view_name": "StyleView",
            "description_width": ""
          }
        },
        "09f6431cab69428c88d128a8a13f3cee": {
          "model_module": "@jupyter-widgets/base",
          "model_name": "LayoutModel",
          "model_module_version": "1.2.0",
          "state": {
            "_model_module": "@jupyter-widgets/base",
            "_model_module_version": "1.2.0",
            "_model_name": "LayoutModel",
            "_view_count": null,
            "_view_module": "@jupyter-widgets/base",
            "_view_module_version": "1.2.0",
            "_view_name": "LayoutView",
            "align_content": null,
            "align_items": null,
            "align_self": null,
            "border": null,
            "bottom": null,
            "display": null,
            "flex": null,
            "flex_flow": null,
            "grid_area": null,
            "grid_auto_columns": null,
            "grid_auto_flow": null,
            "grid_auto_rows": null,
            "grid_column": null,
            "grid_gap": null,
            "grid_row": null,
            "grid_template_areas": null,
            "grid_template_columns": null,
            "grid_template_rows": null,
            "height": null,
            "justify_content": null,
            "justify_items": null,
            "left": null,
            "margin": null,
            "max_height": null,
            "max_width": null,
            "min_height": null,
            "min_width": null,
            "object_fit": null,
            "object_position": null,
            "order": null,
            "overflow": null,
            "overflow_x": null,
            "overflow_y": null,
            "padding": null,
            "right": null,
            "top": null,
            "visibility": null,
            "width": null
          }
        },
        "af2a4e8a554646e490d123ca9c4851b0": {
          "model_module": "@jupyter-widgets/controls",
          "model_name": "ProgressStyleModel",
          "model_module_version": "1.5.0",
          "state": {
            "_model_module": "@jupyter-widgets/controls",
            "_model_module_version": "1.5.0",
            "_model_name": "ProgressStyleModel",
            "_view_count": null,
            "_view_module": "@jupyter-widgets/base",
            "_view_module_version": "1.2.0",
            "_view_name": "StyleView",
            "bar_color": null,
            "description_width": ""
          }
        },
        "18ac1c708252426ca883cd5f4a61f455": {
          "model_module": "@jupyter-widgets/base",
          "model_name": "LayoutModel",
          "model_module_version": "1.2.0",
          "state": {
            "_model_module": "@jupyter-widgets/base",
            "_model_module_version": "1.2.0",
            "_model_name": "LayoutModel",
            "_view_count": null,
            "_view_module": "@jupyter-widgets/base",
            "_view_module_version": "1.2.0",
            "_view_name": "LayoutView",
            "align_content": null,
            "align_items": null,
            "align_self": null,
            "border": null,
            "bottom": null,
            "display": null,
            "flex": null,
            "flex_flow": null,
            "grid_area": null,
            "grid_auto_columns": null,
            "grid_auto_flow": null,
            "grid_auto_rows": null,
            "grid_column": null,
            "grid_gap": null,
            "grid_row": null,
            "grid_template_areas": null,
            "grid_template_columns": null,
            "grid_template_rows": null,
            "height": null,
            "justify_content": null,
            "justify_items": null,
            "left": null,
            "margin": null,
            "max_height": null,
            "max_width": null,
            "min_height": null,
            "min_width": null,
            "object_fit": null,
            "object_position": null,
            "order": null,
            "overflow": null,
            "overflow_x": null,
            "overflow_y": null,
            "padding": null,
            "right": null,
            "top": null,
            "visibility": null,
            "width": null
          }
        },
        "ac223182a9e446359c46d5875e19daee": {
          "model_module": "@jupyter-widgets/controls",
          "model_name": "DescriptionStyleModel",
          "model_module_version": "1.5.0",
          "state": {
            "_model_module": "@jupyter-widgets/controls",
            "_model_module_version": "1.5.0",
            "_model_name": "DescriptionStyleModel",
            "_view_count": null,
            "_view_module": "@jupyter-widgets/base",
            "_view_module_version": "1.2.0",
            "_view_name": "StyleView",
            "description_width": ""
          }
        },
        "e8dbdc2f5abb4133bd923bf7588f2632": {
          "model_module": "@jupyter-widgets/controls",
          "model_name": "HBoxModel",
          "model_module_version": "1.5.0",
          "state": {
            "_dom_classes": [],
            "_model_module": "@jupyter-widgets/controls",
            "_model_module_version": "1.5.0",
            "_model_name": "HBoxModel",
            "_view_count": null,
            "_view_module": "@jupyter-widgets/controls",
            "_view_module_version": "1.5.0",
            "_view_name": "HBoxView",
            "box_style": "",
            "children": [
              "IPY_MODEL_6c08569bdc3943d1b6de9ab7e3d6e6cb",
              "IPY_MODEL_80ac52e0b1144d399ece7b9d3416fda7",
              "IPY_MODEL_8b288efd8e20440fbd437f7db772d6a0"
            ],
            "layout": "IPY_MODEL_08851616b7b44752959d471d59d7e6cc"
          }
        },
        "6c08569bdc3943d1b6de9ab7e3d6e6cb": {
          "model_module": "@jupyter-widgets/controls",
          "model_name": "HTMLModel",
          "model_module_version": "1.5.0",
          "state": {
            "_dom_classes": [],
            "_model_module": "@jupyter-widgets/controls",
            "_model_module_version": "1.5.0",
            "_model_name": "HTMLModel",
            "_view_count": null,
            "_view_module": "@jupyter-widgets/controls",
            "_view_module_version": "1.5.0",
            "_view_name": "HTMLView",
            "description": "",
            "description_tooltip": null,
            "layout": "IPY_MODEL_ede6f50f925a4ec28a4eb18f4d1d214f",
            "placeholder": "​",
            "style": "IPY_MODEL_0c75cbd4e5864cfca5ef518400123ffe",
            "value": "config.json: 100%"
          }
        },
        "80ac52e0b1144d399ece7b9d3416fda7": {
          "model_module": "@jupyter-widgets/controls",
          "model_name": "FloatProgressModel",
          "model_module_version": "1.5.0",
          "state": {
            "_dom_classes": [],
            "_model_module": "@jupyter-widgets/controls",
            "_model_module_version": "1.5.0",
            "_model_name": "FloatProgressModel",
            "_view_count": null,
            "_view_module": "@jupyter-widgets/controls",
            "_view_module_version": "1.5.0",
            "_view_name": "ProgressView",
            "bar_style": "success",
            "description": "",
            "description_tooltip": null,
            "layout": "IPY_MODEL_f457c124402c4a7497f51a06a2c1de4d",
            "max": 483,
            "min": 0,
            "orientation": "horizontal",
            "style": "IPY_MODEL_94de5940cebb47f1827c2a58c16fb8f7",
            "value": 483
          }
        },
        "8b288efd8e20440fbd437f7db772d6a0": {
          "model_module": "@jupyter-widgets/controls",
          "model_name": "HTMLModel",
          "model_module_version": "1.5.0",
          "state": {
            "_dom_classes": [],
            "_model_module": "@jupyter-widgets/controls",
            "_model_module_version": "1.5.0",
            "_model_name": "HTMLModel",
            "_view_count": null,
            "_view_module": "@jupyter-widgets/controls",
            "_view_module_version": "1.5.0",
            "_view_name": "HTMLView",
            "description": "",
            "description_tooltip": null,
            "layout": "IPY_MODEL_299b0c205b73411592efe21d8fec9b7f",
            "placeholder": "​",
            "style": "IPY_MODEL_a867b62057b245028e2d2bf0949e4fca",
            "value": " 483/483 [00:00&lt;00:00, 6.30kB/s]"
          }
        },
        "08851616b7b44752959d471d59d7e6cc": {
          "model_module": "@jupyter-widgets/base",
          "model_name": "LayoutModel",
          "model_module_version": "1.2.0",
          "state": {
            "_model_module": "@jupyter-widgets/base",
            "_model_module_version": "1.2.0",
            "_model_name": "LayoutModel",
            "_view_count": null,
            "_view_module": "@jupyter-widgets/base",
            "_view_module_version": "1.2.0",
            "_view_name": "LayoutView",
            "align_content": null,
            "align_items": null,
            "align_self": null,
            "border": null,
            "bottom": null,
            "display": null,
            "flex": null,
            "flex_flow": null,
            "grid_area": null,
            "grid_auto_columns": null,
            "grid_auto_flow": null,
            "grid_auto_rows": null,
            "grid_column": null,
            "grid_gap": null,
            "grid_row": null,
            "grid_template_areas": null,
            "grid_template_columns": null,
            "grid_template_rows": null,
            "height": null,
            "justify_content": null,
            "justify_items": null,
            "left": null,
            "margin": null,
            "max_height": null,
            "max_width": null,
            "min_height": null,
            "min_width": null,
            "object_fit": null,
            "object_position": null,
            "order": null,
            "overflow": null,
            "overflow_x": null,
            "overflow_y": null,
            "padding": null,
            "right": null,
            "top": null,
            "visibility": null,
            "width": null
          }
        },
        "ede6f50f925a4ec28a4eb18f4d1d214f": {
          "model_module": "@jupyter-widgets/base",
          "model_name": "LayoutModel",
          "model_module_version": "1.2.0",
          "state": {
            "_model_module": "@jupyter-widgets/base",
            "_model_module_version": "1.2.0",
            "_model_name": "LayoutModel",
            "_view_count": null,
            "_view_module": "@jupyter-widgets/base",
            "_view_module_version": "1.2.0",
            "_view_name": "LayoutView",
            "align_content": null,
            "align_items": null,
            "align_self": null,
            "border": null,
            "bottom": null,
            "display": null,
            "flex": null,
            "flex_flow": null,
            "grid_area": null,
            "grid_auto_columns": null,
            "grid_auto_flow": null,
            "grid_auto_rows": null,
            "grid_column": null,
            "grid_gap": null,
            "grid_row": null,
            "grid_template_areas": null,
            "grid_template_columns": null,
            "grid_template_rows": null,
            "height": null,
            "justify_content": null,
            "justify_items": null,
            "left": null,
            "margin": null,
            "max_height": null,
            "max_width": null,
            "min_height": null,
            "min_width": null,
            "object_fit": null,
            "object_position": null,
            "order": null,
            "overflow": null,
            "overflow_x": null,
            "overflow_y": null,
            "padding": null,
            "right": null,
            "top": null,
            "visibility": null,
            "width": null
          }
        },
        "0c75cbd4e5864cfca5ef518400123ffe": {
          "model_module": "@jupyter-widgets/controls",
          "model_name": "DescriptionStyleModel",
          "model_module_version": "1.5.0",
          "state": {
            "_model_module": "@jupyter-widgets/controls",
            "_model_module_version": "1.5.0",
            "_model_name": "DescriptionStyleModel",
            "_view_count": null,
            "_view_module": "@jupyter-widgets/base",
            "_view_module_version": "1.2.0",
            "_view_name": "StyleView",
            "description_width": ""
          }
        },
        "f457c124402c4a7497f51a06a2c1de4d": {
          "model_module": "@jupyter-widgets/base",
          "model_name": "LayoutModel",
          "model_module_version": "1.2.0",
          "state": {
            "_model_module": "@jupyter-widgets/base",
            "_model_module_version": "1.2.0",
            "_model_name": "LayoutModel",
            "_view_count": null,
            "_view_module": "@jupyter-widgets/base",
            "_view_module_version": "1.2.0",
            "_view_name": "LayoutView",
            "align_content": null,
            "align_items": null,
            "align_self": null,
            "border": null,
            "bottom": null,
            "display": null,
            "flex": null,
            "flex_flow": null,
            "grid_area": null,
            "grid_auto_columns": null,
            "grid_auto_flow": null,
            "grid_auto_rows": null,
            "grid_column": null,
            "grid_gap": null,
            "grid_row": null,
            "grid_template_areas": null,
            "grid_template_columns": null,
            "grid_template_rows": null,
            "height": null,
            "justify_content": null,
            "justify_items": null,
            "left": null,
            "margin": null,
            "max_height": null,
            "max_width": null,
            "min_height": null,
            "min_width": null,
            "object_fit": null,
            "object_position": null,
            "order": null,
            "overflow": null,
            "overflow_x": null,
            "overflow_y": null,
            "padding": null,
            "right": null,
            "top": null,
            "visibility": null,
            "width": null
          }
        },
        "94de5940cebb47f1827c2a58c16fb8f7": {
          "model_module": "@jupyter-widgets/controls",
          "model_name": "ProgressStyleModel",
          "model_module_version": "1.5.0",
          "state": {
            "_model_module": "@jupyter-widgets/controls",
            "_model_module_version": "1.5.0",
            "_model_name": "ProgressStyleModel",
            "_view_count": null,
            "_view_module": "@jupyter-widgets/base",
            "_view_module_version": "1.2.0",
            "_view_name": "StyleView",
            "bar_color": null,
            "description_width": ""
          }
        },
        "299b0c205b73411592efe21d8fec9b7f": {
          "model_module": "@jupyter-widgets/base",
          "model_name": "LayoutModel",
          "model_module_version": "1.2.0",
          "state": {
            "_model_module": "@jupyter-widgets/base",
            "_model_module_version": "1.2.0",
            "_model_name": "LayoutModel",
            "_view_count": null,
            "_view_module": "@jupyter-widgets/base",
            "_view_module_version": "1.2.0",
            "_view_name": "LayoutView",
            "align_content": null,
            "align_items": null,
            "align_self": null,
            "border": null,
            "bottom": null,
            "display": null,
            "flex": null,
            "flex_flow": null,
            "grid_area": null,
            "grid_auto_columns": null,
            "grid_auto_flow": null,
            "grid_auto_rows": null,
            "grid_column": null,
            "grid_gap": null,
            "grid_row": null,
            "grid_template_areas": null,
            "grid_template_columns": null,
            "grid_template_rows": null,
            "height": null,
            "justify_content": null,
            "justify_items": null,
            "left": null,
            "margin": null,
            "max_height": null,
            "max_width": null,
            "min_height": null,
            "min_width": null,
            "object_fit": null,
            "object_position": null,
            "order": null,
            "overflow": null,
            "overflow_x": null,
            "overflow_y": null,
            "padding": null,
            "right": null,
            "top": null,
            "visibility": null,
            "width": null
          }
        },
        "a867b62057b245028e2d2bf0949e4fca": {
          "model_module": "@jupyter-widgets/controls",
          "model_name": "DescriptionStyleModel",
          "model_module_version": "1.5.0",
          "state": {
            "_model_module": "@jupyter-widgets/controls",
            "_model_module_version": "1.5.0",
            "_model_name": "DescriptionStyleModel",
            "_view_count": null,
            "_view_module": "@jupyter-widgets/base",
            "_view_module_version": "1.2.0",
            "_view_name": "StyleView",
            "description_width": ""
          }
        },
        "dc03d2c0d2ad4da289817298ee751c02": {
          "model_module": "@jupyter-widgets/controls",
          "model_name": "HBoxModel",
          "model_module_version": "1.5.0",
          "state": {
            "_dom_classes": [],
            "_model_module": "@jupyter-widgets/controls",
            "_model_module_version": "1.5.0",
            "_model_name": "HBoxModel",
            "_view_count": null,
            "_view_module": "@jupyter-widgets/controls",
            "_view_module_version": "1.5.0",
            "_view_name": "HBoxView",
            "box_style": "",
            "children": [
              "IPY_MODEL_fd65b029110442cfa08c94c89878c1a8",
              "IPY_MODEL_ef81dc2488b84b2d8a144474c03d0eb0",
              "IPY_MODEL_d07e4627f04243cb96917f8221a10822"
            ],
            "layout": "IPY_MODEL_f2b017398e924e7b9acc723dc1373d77"
          }
        },
        "fd65b029110442cfa08c94c89878c1a8": {
          "model_module": "@jupyter-widgets/controls",
          "model_name": "HTMLModel",
          "model_module_version": "1.5.0",
          "state": {
            "_dom_classes": [],
            "_model_module": "@jupyter-widgets/controls",
            "_model_module_version": "1.5.0",
            "_model_name": "HTMLModel",
            "_view_count": null,
            "_view_module": "@jupyter-widgets/controls",
            "_view_module_version": "1.5.0",
            "_view_name": "HTMLView",
            "description": "",
            "description_tooltip": null,
            "layout": "IPY_MODEL_65a1c447453041c2bb7fba40bbf2674c",
            "placeholder": "​",
            "style": "IPY_MODEL_3f6b764bfed54bb090c889088c960110",
            "value": "model.safetensors: 100%"
          }
        },
        "ef81dc2488b84b2d8a144474c03d0eb0": {
          "model_module": "@jupyter-widgets/controls",
          "model_name": "FloatProgressModel",
          "model_module_version": "1.5.0",
          "state": {
            "_dom_classes": [],
            "_model_module": "@jupyter-widgets/controls",
            "_model_module_version": "1.5.0",
            "_model_name": "FloatProgressModel",
            "_view_count": null,
            "_view_module": "@jupyter-widgets/controls",
            "_view_module_version": "1.5.0",
            "_view_name": "ProgressView",
            "bar_style": "success",
            "description": "",
            "description_tooltip": null,
            "layout": "IPY_MODEL_a3548beaa3ca42feaf711acaecdf5906",
            "max": 267954768,
            "min": 0,
            "orientation": "horizontal",
            "style": "IPY_MODEL_f5955d8744ea47f19837520a008b8bff",
            "value": 267954768
          }
        },
        "d07e4627f04243cb96917f8221a10822": {
          "model_module": "@jupyter-widgets/controls",
          "model_name": "HTMLModel",
          "model_module_version": "1.5.0",
          "state": {
            "_dom_classes": [],
            "_model_module": "@jupyter-widgets/controls",
            "_model_module_version": "1.5.0",
            "_model_name": "HTMLModel",
            "_view_count": null,
            "_view_module": "@jupyter-widgets/controls",
            "_view_module_version": "1.5.0",
            "_view_name": "HTMLView",
            "description": "",
            "description_tooltip": null,
            "layout": "IPY_MODEL_b344894da8be4537b598e7a5b0b7dbb8",
            "placeholder": "​",
            "style": "IPY_MODEL_1bdf5876f84e4155b8ef18f105dc5aa4",
            "value": " 268M/268M [00:01&lt;00:00, 153MB/s]"
          }
        },
        "f2b017398e924e7b9acc723dc1373d77": {
          "model_module": "@jupyter-widgets/base",
          "model_name": "LayoutModel",
          "model_module_version": "1.2.0",
          "state": {
            "_model_module": "@jupyter-widgets/base",
            "_model_module_version": "1.2.0",
            "_model_name": "LayoutModel",
            "_view_count": null,
            "_view_module": "@jupyter-widgets/base",
            "_view_module_version": "1.2.0",
            "_view_name": "LayoutView",
            "align_content": null,
            "align_items": null,
            "align_self": null,
            "border": null,
            "bottom": null,
            "display": null,
            "flex": null,
            "flex_flow": null,
            "grid_area": null,
            "grid_auto_columns": null,
            "grid_auto_flow": null,
            "grid_auto_rows": null,
            "grid_column": null,
            "grid_gap": null,
            "grid_row": null,
            "grid_template_areas": null,
            "grid_template_columns": null,
            "grid_template_rows": null,
            "height": null,
            "justify_content": null,
            "justify_items": null,
            "left": null,
            "margin": null,
            "max_height": null,
            "max_width": null,
            "min_height": null,
            "min_width": null,
            "object_fit": null,
            "object_position": null,
            "order": null,
            "overflow": null,
            "overflow_x": null,
            "overflow_y": null,
            "padding": null,
            "right": null,
            "top": null,
            "visibility": null,
            "width": null
          }
        },
        "65a1c447453041c2bb7fba40bbf2674c": {
          "model_module": "@jupyter-widgets/base",
          "model_name": "LayoutModel",
          "model_module_version": "1.2.0",
          "state": {
            "_model_module": "@jupyter-widgets/base",
            "_model_module_version": "1.2.0",
            "_model_name": "LayoutModel",
            "_view_count": null,
            "_view_module": "@jupyter-widgets/base",
            "_view_module_version": "1.2.0",
            "_view_name": "LayoutView",
            "align_content": null,
            "align_items": null,
            "align_self": null,
            "border": null,
            "bottom": null,
            "display": null,
            "flex": null,
            "flex_flow": null,
            "grid_area": null,
            "grid_auto_columns": null,
            "grid_auto_flow": null,
            "grid_auto_rows": null,
            "grid_column": null,
            "grid_gap": null,
            "grid_row": null,
            "grid_template_areas": null,
            "grid_template_columns": null,
            "grid_template_rows": null,
            "height": null,
            "justify_content": null,
            "justify_items": null,
            "left": null,
            "margin": null,
            "max_height": null,
            "max_width": null,
            "min_height": null,
            "min_width": null,
            "object_fit": null,
            "object_position": null,
            "order": null,
            "overflow": null,
            "overflow_x": null,
            "overflow_y": null,
            "padding": null,
            "right": null,
            "top": null,
            "visibility": null,
            "width": null
          }
        },
        "3f6b764bfed54bb090c889088c960110": {
          "model_module": "@jupyter-widgets/controls",
          "model_name": "DescriptionStyleModel",
          "model_module_version": "1.5.0",
          "state": {
            "_model_module": "@jupyter-widgets/controls",
            "_model_module_version": "1.5.0",
            "_model_name": "DescriptionStyleModel",
            "_view_count": null,
            "_view_module": "@jupyter-widgets/base",
            "_view_module_version": "1.2.0",
            "_view_name": "StyleView",
            "description_width": ""
          }
        },
        "a3548beaa3ca42feaf711acaecdf5906": {
          "model_module": "@jupyter-widgets/base",
          "model_name": "LayoutModel",
          "model_module_version": "1.2.0",
          "state": {
            "_model_module": "@jupyter-widgets/base",
            "_model_module_version": "1.2.0",
            "_model_name": "LayoutModel",
            "_view_count": null,
            "_view_module": "@jupyter-widgets/base",
            "_view_module_version": "1.2.0",
            "_view_name": "LayoutView",
            "align_content": null,
            "align_items": null,
            "align_self": null,
            "border": null,
            "bottom": null,
            "display": null,
            "flex": null,
            "flex_flow": null,
            "grid_area": null,
            "grid_auto_columns": null,
            "grid_auto_flow": null,
            "grid_auto_rows": null,
            "grid_column": null,
            "grid_gap": null,
            "grid_row": null,
            "grid_template_areas": null,
            "grid_template_columns": null,
            "grid_template_rows": null,
            "height": null,
            "justify_content": null,
            "justify_items": null,
            "left": null,
            "margin": null,
            "max_height": null,
            "max_width": null,
            "min_height": null,
            "min_width": null,
            "object_fit": null,
            "object_position": null,
            "order": null,
            "overflow": null,
            "overflow_x": null,
            "overflow_y": null,
            "padding": null,
            "right": null,
            "top": null,
            "visibility": null,
            "width": null
          }
        },
        "f5955d8744ea47f19837520a008b8bff": {
          "model_module": "@jupyter-widgets/controls",
          "model_name": "ProgressStyleModel",
          "model_module_version": "1.5.0",
          "state": {
            "_model_module": "@jupyter-widgets/controls",
            "_model_module_version": "1.5.0",
            "_model_name": "ProgressStyleModel",
            "_view_count": null,
            "_view_module": "@jupyter-widgets/base",
            "_view_module_version": "1.2.0",
            "_view_name": "StyleView",
            "bar_color": null,
            "description_width": ""
          }
        },
        "b344894da8be4537b598e7a5b0b7dbb8": {
          "model_module": "@jupyter-widgets/base",
          "model_name": "LayoutModel",
          "model_module_version": "1.2.0",
          "state": {
            "_model_module": "@jupyter-widgets/base",
            "_model_module_version": "1.2.0",
            "_model_name": "LayoutModel",
            "_view_count": null,
            "_view_module": "@jupyter-widgets/base",
            "_view_module_version": "1.2.0",
            "_view_name": "LayoutView",
            "align_content": null,
            "align_items": null,
            "align_self": null,
            "border": null,
            "bottom": null,
            "display": null,
            "flex": null,
            "flex_flow": null,
            "grid_area": null,
            "grid_auto_columns": null,
            "grid_auto_flow": null,
            "grid_auto_rows": null,
            "grid_column": null,
            "grid_gap": null,
            "grid_row": null,
            "grid_template_areas": null,
            "grid_template_columns": null,
            "grid_template_rows": null,
            "height": null,
            "justify_content": null,
            "justify_items": null,
            "left": null,
            "margin": null,
            "max_height": null,
            "max_width": null,
            "min_height": null,
            "min_width": null,
            "object_fit": null,
            "object_position": null,
            "order": null,
            "overflow": null,
            "overflow_x": null,
            "overflow_y": null,
            "padding": null,
            "right": null,
            "top": null,
            "visibility": null,
            "width": null
          }
        },
        "1bdf5876f84e4155b8ef18f105dc5aa4": {
          "model_module": "@jupyter-widgets/controls",
          "model_name": "DescriptionStyleModel",
          "model_module_version": "1.5.0",
          "state": {
            "_model_module": "@jupyter-widgets/controls",
            "_model_module_version": "1.5.0",
            "_model_name": "DescriptionStyleModel",
            "_view_count": null,
            "_view_module": "@jupyter-widgets/base",
            "_view_module_version": "1.2.0",
            "_view_name": "StyleView",
            "description_width": ""
          }
        }
      }
    }
  },
  "nbformat": 4,
  "nbformat_minor": 0
}